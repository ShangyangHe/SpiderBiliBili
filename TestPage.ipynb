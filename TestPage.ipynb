{
 "metadata": {
  "language_info": {
   "codemirror_mode": {
    "name": "ipython",
    "version": 3
   },
   "file_extension": ".py",
   "mimetype": "text/x-python",
   "name": "python",
   "nbconvert_exporter": "python",
   "pygments_lexer": "ipython3",
   "version": "3.6.8-final"
  },
  "orig_nbformat": 2,
  "kernelspec": {
   "name": "python3",
   "display_name": "Python 3.6.8 64-bit",
   "metadata": {
    "interpreter": {
     "hash": "abedb2ffb0fce78ae854b68da1d6e1df40288de46273146e4acfc436e9e62c86"
    }
   }
  }
 },
 "nbformat": 4,
 "nbformat_minor": 2,
 "cells": [
  {
   "cell_type": "code",
   "execution_count": 131,
   "metadata": {},
   "outputs": [],
   "source": [
    "import requests\n",
    "import re\n",
    "from bs4 import BeautifulSoup\n",
    "from multiprocessing import  Process\n",
    "import os\n",
    "import time"
   ]
  },
  {
   "cell_type": "code",
   "execution_count": 132,
   "metadata": {},
   "outputs": [],
   "source": [
    "category = ['bangumi', 'guochan', 'guochuang', 'documentary', 'douga', 'music', 'dance', 'game', 'technology', 'digital', 'life', 'food', 'animal', 'kichiku', 'fashion', 'ent', 'cinephile', 'movie', 'tv', 'origin', 'rookie']\n",
    "base_url = 'https://www.bilibili.com/v/popular/rank/'"
   ]
  },
  {
   "cell_type": "code",
   "execution_count": 133,
   "metadata": {},
   "outputs": [],
   "source": [
    "url = base_url + category[5]\n",
    "head = {}\n",
    "head['User-Agent'] = 'Mozilla/5.0 (Linux; Android 4.0.4; Galaxy Nexus Build/IMM76B) AppleWebKit/535.19 (KHTML, like Gecko) Chrome/18.0.1025.133 Mobile Safari/535.19'"
   ]
  },
  {
   "cell_type": "code",
   "execution_count": 134,
   "metadata": {},
   "outputs": [],
   "source": [
    "req = requests.get(url,headers=head)\n",
    "req.encoding = 'utf-8'\n",
    "html = req.text\n",
    "bs = BeautifulSoup(html,'lxml')"
   ]
  },
  {
   "cell_type": "code",
   "execution_count": 180,
   "metadata": {},
   "outputs": [
    {
     "output_type": "stream",
     "name": "stdout",
     "text": [
      "1 www.bilibili.com/video/BV1rp4y1n7Ft 《明日方舟》EP - 观心 76.7万 4499 明日方舟\n2 www.bilibili.com/video/BV1QK4y1S7uq 小伙伴们要的《广寒宫》国家队版来了，新鲜出炉。 104.9万 1527 歌唱演员王园园\n3 www.bilibili.com/video/BV1qy4y1J7QQ 《暗影刺客》琵琶女真人版 刺客伍六七第三季OP 54.7万 867 柳青瑶本尊\n4 www.bilibili.com/video/BV14b4y1R7L6 【翻唱】初中生演绎《我好像在哪见过你》 143.3万 1410 朝烟今天唱歌了没\n5 www.bilibili.com/video/BV1q54y1Y7mU 用一张脸弹出【印尼宽带】 51.4万 890 撸小盆友\n6 www.bilibili.com/video/BV1ZN411X7Bs 《界碑》用了一天一夜，这是我想说的话 29.7万 2908 共青团中央\n7 www.bilibili.com/video/BV1no4y1R7dq 【唢呐】巴啦啦小魔仙--黑魔变身～！ 46.5万 4110 浑元Rysn\n8 www.bilibili.com/video/BV1cX4y1L7nq 我们是眼泪齁咸组合 I 处女作《旺德福》 26.7万 1970 兔叭咯\n9 www.bilibili.com/video/BV1Kr4y1A7G7 “卧槽！音乐一响，多少人的青春回来了！” 185.8万 1357 百年影视界\n10 www.bilibili.com/video/BV1hA411M7fh 【拯救歌荒】每首歌只能听12秒 34.5万 1915 -LKs-\n11 www.bilibili.com/video/BV1v5411N7uR 【钢琴】《撒野》罗曼耶卓 18.7万 1017 oskarpianist\n12 www.bilibili.com/video/BV1xb4y1R7JU 【战士】一首献给边防英雄的赞歌 14.6万 1288 中二的青\n13 www.bilibili.com/video/BV17i4y1T7bJ 河南卫视元宵晚会！全国首次博物院实拍综艺晚会！【完整版】无主持！超连贯的河南元宵奇妙夜！给你个船新的体验！ 13.9万 5275 河南共青团\n14 www.bilibili.com/video/BV1LU4y1s7og Primastella【鹿乃】 7.3万 599 鹿乃ちゃん\n15 www.bilibili.com/video/BV1zK4y1S7di 我把喻言翻唱碧梨的胆识，称为女王行为 16.9万 5176 粉蒸兔头\n16 www.bilibili.com/video/BV1Kr4y1A7RG 【丰崎爱生】伪《轻音少女》翻唱「ちょうどあいす」 13.2万 765 丰崎爱生Official\n17 www.bilibili.com/video/BV1rN411X7hL 教堂穹顶降下来的声音｜周深 让我痛哭吧& caro mio ben系列9 戴耳机（让我痛哭吧中的小部分来自Kirsten Blaise 9.8万 571 YhvEt\n18 www.bilibili.com/video/BV1ZK4y1E756 教科书演唱之四 曾一鸣 《星辰大海》 24.3万 3464 歌手曾一鸣\n19 www.bilibili.com/video/BV1dy4y1Y7rh 【SUPER JUNIOR】The 10th Album #1 《Raining Spell for Love (Remake ver.)》 Live Clip 5.2万 2821 SUPERJUNIOR\n20 www.bilibili.com/video/BV185411E7Yh 【WNS】210224 SBSMTV Unplugged Presents ：BTS 防弹少年团 全场cut 10万 5781 WNS_WeNeedBTS\n21 www.bilibili.com/video/BV1Kh411k71v 【多多翻唱】永远同在 -《千与千寻》 8.4万 410 多多poi丶\n22 www.bilibili.com/video/BV1ao4y197Fn 【谭晶】《赤伶》来了！经典吟唱再现，极限声压搭配绝美戏腔唱尽粉墨悲欢！ 34.7万 973 谭晶\n23 www.bilibili.com/video/BV1cX4y1L7KW 真正的头腔共鸣！论美声的音量到底能有多大？55岁的戏剧女高Begoña Alberdi脱麦唱响整个小区 绝美高弱 尼尔森的音色 卡巴耶的风格 黄金时期的余晖 21.8万 427 与世无争respect\n24 www.bilibili.com/video/BV1FX4y1L7Mu 在《鬼怪》实际拍摄地翻唱的《Stay With Me》 13.5万 398 海俐安Harryan\n25 www.bilibili.com/video/BV1WK4y1S7VY 【钢琴】《Rubia》· 崩坏3印象曲 13.4万 228 绯绯Feifei\n26 www.bilibili.com/video/BV1rf4y1z7E1 【仙贝】富士山下 cover陈奕迅（这首歌真的好难 45.7万 211 嗷呜一口仙贝\n27 www.bilibili.com/video/BV1cv411Y7eV 千千万万个你和我，却都是错过.. 丨《错位时空》cover 艾辰 15.6万 184 Seammy赵乃吉\n28 www.bilibili.com/video/BV18X4y1N7Yh 【原神拜年纪】让风告诉你 28.7万 606 YuH_ChiliChill\n29 www.bilibili.com/video/BV1Vp4y1W7r4 【你看我变性去创四唱rap可以吗？】Amber创4舞台秀翻唱！ 28.5万 149 咸咸JasMine\n30 www.bilibili.com/video/BV1fX4y157Sp 【李玉刚自投稿】这一次带着《赤伶》来到了吉林卫视春晚 12.4万 508 李玉刚\n31 www.bilibili.com/video/BV1ji4y1T7wJ 【小众歌单】春日序曲|让人心情变好的春日歌单|韩语英语|学习/读书/放松音乐 7.9万 21 Jachoy\n32 www.bilibili.com/video/BV13r4y1A7uX 自杀不好哟 14.4万 343 铃木YYUT\n33 www.bilibili.com/video/BV1bz4y127DF 快乐来了！(G)I-DLE+IZONE+Weki Meki Cover 少女时代【再次重逢的世界】210225高清舞台 13.4万 4158 pcyxjy\n34 www.bilibili.com/video/BV1Zy4y1h7cX 【祖娅纳惜】不问天【2021拜年纪翻唱】 10.9万 215 祖娅纳惜\n35 www.bilibili.com/video/BV1Vf4y167ak 开口跪？！你一定没听过的男生宿舍合唱版《错位时空》！ 14.6万 171 陈家淇_B11\n36 www.bilibili.com/video/BV1wy4y1a7e5 创4 米卡清唱《永不失联的爱》！外国选手好强！ 31.8万 746 嗑糖少女000\n37 www.bilibili.com/video/BV13U4y1W7KM 毛线刺客！刺客伍六七第三季玄武篇op翻奏 28.1万 522 音_嘤嘤\n38 www.bilibili.com/video/BV1GJ411x7h7 【官方 MV】Never Gonna Give You Up - Rick Astley 32.4万 797 索尼音乐中国\n39 www.bilibili.com/video/BV13f4y167Hw 我爸居然会唱《永不失联的爱》？？？？？？？？？？？？？？？？？？？？ 19万 233 拯救世界的狗子\n40 www.bilibili.com/video/BV1Th411k7bi 【泠鸢·单人】只存在于录音中的RAP《吉祥话》单人版 14.5万 230 泠鸢yousa\n41 www.bilibili.com/video/BV1Bp4y1n7iK 能让整支军队为他伴舞，从古至今只有他一人，这就是传奇！ 15.2万 833 唯一音乐小魔王\n42 www.bilibili.com/video/BV1fp4y1n78J 【Akie秋绘】时光盲盒（2021拜年纪单曲翻唱） 4.2万 376 Akie秋绘\n43 www.bilibili.com/video/BV1sr4y1N71v 【One Voice】童声合唱团演唱《疯狂动物城》主题曲 14.9万 78 YouTube精选字幕组\n44 www.bilibili.com/video/BV1jU4y1x7HJ 新春歌友烩把评委唱傻了，最后一名直接吓到直播间300W人，弹幕：国家队禁止参赛！ 30.2万 2619 艺术家阿克曼\n45 www.bilibili.com/video/BV18b4y1R7v2 【朱主爱ktv】COVER《大城小爱》｜吉他弹唱 16万 166 朱主爱_JoyceChu\n46 www.bilibili.com/video/BV1zK4y1S71s 【remix】never gonna give ⚡电音⚡ up 18.9万 242 position06\n47 www.bilibili.com/video/BV1GU4y1s7J1 【怀旧经典】水木年华《一生有你》王炸神曲！纪念我们逝去的青春！ 10.4万 337 音乐私藏馆\n48 www.bilibili.com/video/BV1i54y1Y7aZ 【全站首发】明日方舟EP 观心 小提琴版 7.3万 301 拿弓子的波塞东\n49 www.bilibili.com/video/BV1Pr4y1A7TA 【中日双语 催眠麦克风 DRB ヒプマイ】2nd battle池袋vs大阪 池袋组歌+大阪组歌+池袋大阪battle曲 4.2万 1357 有栖川路西_\n50 www.bilibili.com/video/BV1iy4y1h7Xj 一个人模仿10个Rapper的说唱风格 第四集（幼稚园杀手、贝贝、圣代等） 13.4万 1314 萨萨超级飒\n51 www.bilibili.com/video/BV14z4y1S7s2 艾辰——【错位时空】 24.3万 442 艾辰。\n52 www.bilibili.com/video/BV1GU4y1x7XT 【再来亿遍，“国家队”整活】交响乐版的《射雕英雄传》，你“呼，哈”了么？ 33.1万 354 国家大剧院\n53 www.bilibili.com/video/BV1Sz4y1278h 《心做し》cover. GUMI 7.3万 584 静哔哔哔哔\n54 www.bilibili.com/video/BV1kh411r7oA 「 吉 祥 话 」 5.9万 354 碳酸熊卡\n55 www.bilibili.com/video/BV1KV411q7SC 一个无处可去的《艺术家》。 5.9万 113 卦者那啥子靈風\n56 www.bilibili.com/video/BV1Sz4y127gN 省重点搞说唱能不能行？【郑州十一中2021Cypher】 8.8万 644 Cosineeeee\n57 www.bilibili.com/video/BV1mN411R79Y 我把Lemon改成了中文版！！盐系姐姐钢琴改编弹唱 13.1万 106 Lin大王_\n58 www.bilibili.com/video/BV1Qy4y1h7t3 烦！！！死！！！了！！！！！！！！！！！！！！！！！！【ABbbb君】 7.3万 164 ABbbb君\n59 www.bilibili.com/video/BV1pK4y1H7Bh 来听！不能错过的春日系治愈单曲《风来过》#番外篇 9万 364 邓园长\n60 www.bilibili.com/video/BV1zp4y1W7qf 吉祥话【2021拜年纪单品】 24.2万 297 hanser\n61 www.bilibili.com/video/BV17U4y1s7Kx 【愿者上钩】DNA检测器 10.8万 264 李桔契\n62 www.bilibili.com/video/BV1ZT4y1P7n6 开口跪！We Don't Talk Anymore惊艳演唱，油管2500万播放的午夜飞行FBM来啦！ 15.7万 155 午夜飞行FBM\n63 www.bilibili.com/video/BV1sv4y1f7Q2 不问天【2021拜年纪单品】 24.7万 412 平安夜的噩梦\n64 www.bilibili.com/video/BV1uy4y1J7WJ 回顾Daft Punk的28年，致敬一代音乐传奇 6.8万 233 电喵大战皮卡丘\n65 www.bilibili.com/video/BV1Py4y1J7Km 看看3年前的和马、米卡、庆怜？INTERSECTION《Heart of Gold》舞台 9.4万 677 酷狗音乐\n66 www.bilibili.com/video/BV1Xh411X7R9 【纯享】AK《反路》【说唱新世代】 42.7万 123 说唱新世代X造浪\n67 www.bilibili.com/video/BV1cv411Y7aA [4k中字]巅峰Eminem最稳的演唱会全场 稳到以为是假唱! | Anger Management 2002底特律场 全场翻译 8.6万 318 葩葩葩趴\n68 www.bilibili.com/video/BV1HA411M7KC 【原创MV】ChroNoiR HoneyWorks medley【cover】 6.5万 341 葛叶Official\n69 www.bilibili.com/video/BV16v411a7uG 【古筝】在法国街头弹《霍元甲》再配上满街的中国红灯笼！帅气！ 22.7万 281 碰碰彭碰彭\n70 www.bilibili.com/video/BV1SX4y1N7Ja 红莲华 鬼灭op（翻唱） 25.1万 607 疯人柠檬A\n71 www.bilibili.com/video/BV1nA411M7dg 中国风的英文歌？这位外国小哥不要太有才！ 13.4万 287 肖恩Shaun-Gibson\n72 www.bilibili.com/video/BV1ZU4y1W7WR 唱歌剧的人是如何吵架的？画面感太强了！ 9.7万 147 XSO西安交响乐团\n73 www.bilibili.com/video/BV1Ff4y167QG 【瞳瞳】燃！高达W！《just communication》激情翻唱！目标…锁定…任务完了… 6.1万 448 我是瞳瞳啊\n74 www.bilibili.com/video/BV1bV411i7NL 街头炸起《某科学的超电磁炮》时，女同学不镇定了 22.1万 238 Piano莱特\n75 www.bilibili.com/video/BV1TU4y1x79d 40首超火梗曲大串烧！ 14万 663 杨可爱Ukulele\n76 www.bilibili.com/video/BV13f4y167aR 【UP主突袭创造营】永不仆街的爱【降维打击现场实录】 8.8万 5572 JKAI杰凯\n77 www.bilibili.com/video/BV1qA411M77d 爷青回！初代初恋系，甜甜《樱花草》cover. 7.7万 187 yakisa彭雅琦\n78 www.bilibili.com/video/BV1zN411d7dG 万象霜天【2021拜年纪单品】 19.8万 198 忘川风华录\n79 www.bilibili.com/video/BV1Hy4y1J725 【WARPs UP】SUPERNOVA -limited edition- 4.4万 758 WARPs_FACTORY\n80 www.bilibili.com/video/BV1no4y1d7tU 总算知道为什么刘德华能红四十年！ 21.5万 14 17岁反派里的持枪Boy\n81 www.bilibili.com/video/BV1yb4y1R7yN D N A 错 乱 5.4万 534 冰则Minbao\n82 www.bilibili.com/video/BV1Xo4y197bW 【中字】当在监狱蹲了好几年的Rapper玩不明白现在的音乐时 10.4万 109 808Tuesday\n83 www.bilibili.com/video/BV1yf4y1r7Uh 昨天芜湖歌友烩第一位选手阿克曼惊艳全场！弹幕：阿克曼你在干什么？ 21.2万 1999 吟游大司人\n84 www.bilibili.com/video/BV1Ah411C7Gf 用最可爱的脸唱最凶的青藏高原 油管破600万播放 19万 240 DARCULAAAA\n85 www.bilibili.com/video/BV1cy4y1J7ei 【谷围南亭广播剧】主题曲《谷围如神》MV上线！南边亭下，等你出现！ 6.1万 236 圣代哥哥\n86 www.bilibili.com/video/BV1Pz4y1m7by 林俊杰Disney+（SG）现场演唱经典迪士尼歌曲串烧 5.5万 414 林家音乐\n87 www.bilibili.com/video/BV1wN41197FL 致敬边防官兵-《为了我们》 2.6万 147 因你而在的梦\n88 www.bilibili.com/video/BV1LJ411W7Bo 满级大佬屠杀新手村 15.3万 245 Ueroey\n89 www.bilibili.com/video/BV1FX4y157eb 16年欧美热曲串烧，是谁动了我的DNA？ 15.4万 60 音乐制作人Kurt\n90 www.bilibili.com/video/BV1gK411P76K 挑战花腔极限速度！吴碧霞《广寒宫》全新花腔描绘月宫传说！ 13.4万 256 网易梦幻西游手游\n91 www.bilibili.com/video/BV1Gr4y1A711 《观音劝架》大唐gang   Don’t diss 10.5万 124 太空难民_Ranmi\n92 www.bilibili.com/video/BV1uV411q7ef 传奇电音双人组 Daft Punk 解散最后一支MV「Epilogue」 5.5万 298 大家的音乐姬\n93 www.bilibili.com/video/BV1Gy4y1J7dP 如今依然无法超越的经典 WonderGirls Nobody 13.7万 178 ice冰帝-\n94 www.bilibili.com/video/BV1pi4y1T7yr 【银临】惊艳四座！四川卫视2021新年演唱会，银临与Aki阿杰献唱《牵丝戏》 17.3万 178 小银库粉丝后援会\n95 www.bilibili.com/video/BV1rK4y1p7Cs 【方舟拜年纪单品】原创曲《幻灯片》 12.5万 246 渊渊的奇妙冒险\n96 www.bilibili.com/video/BV1Py4y1a745 两个CD精！林俊杰邓紫棋隔空合唱《手心的蔷薇》 9.4万 79 林俊杰资讯站\n97 www.bilibili.com/video/BV1rN411R7XQ 建议改成：雅 加 达 电 音 节                                Goyang Ubur Ubur Hardstyle Remix 9.6万 409 这个人除了帅还是帅\n98 www.bilibili.com/video/BV1Fz4y1m7y8 思念是一种病 - 张震岳/蔡健雅 （coverbyjin） 5.5万 142 金子不会发光吧\n99 www.bilibili.com/video/BV1QK4y1E7RZ 【多人翻唱】Melody in the Dark《偶像梦幻祭2》[非人异常社] 3.4万 209 小狼XF\n100 www.bilibili.com/video/BV12y4y1h7Bu 我现在看还是很尴尬 8.6万 53 白眼狼你也不行啊\n"
     ]
    }
   ],
   "source": [
    "item = bs.find_all(href = re.compile('<*[AB]V\\w{9,10}'), class_='title')\n",
    "re_detail = re.compile('\\s{1,}([^\\s]{1,})\\\\n')\n",
    "detail = bs.find_all(class_ = 'detail')\n",
    "for i, (video, info) in enumerate(zip(item, detail)):\n",
    "    play, chat, author = de.findall(info.text)\n",
    "    print(i+1, video['href'][2:], video.text, play, chat, author)"
   ]
  },
  {
   "cell_type": "code",
   "execution_count": 178,
   "metadata": {},
   "outputs": [
    {
     "output_type": "execute_result",
     "data": {
      "text/plain": [
       "'76.7万'"
      ]
     },
     "metadata": {},
     "execution_count": 178
    }
   ],
   "source": [
    "detail = bs.find_all(class_ = 'detail')\n",
    "play_class, view_class, author_class = 'b-icon play', 'b-icon view', 'b-icon author'\n",
    "de = re.compile('\\s{1,}([^\\s]{1,})\\\\n')\n",
    "a, b, c= de.findall(detail[0].text)\n",
    "a"
   ]
  },
  {
   "cell_type": "code",
   "execution_count": 172,
   "metadata": {},
   "outputs": [
    {
     "output_type": "execute_result",
     "data": {
      "text/plain": [
       "_sre.SRE_Pattern"
      ]
     },
     "metadata": {},
     "execution_count": 172
    }
   ],
   "source": []
  }
 ]
}